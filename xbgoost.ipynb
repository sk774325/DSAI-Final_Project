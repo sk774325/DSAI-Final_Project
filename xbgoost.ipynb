{
 "cells": [
  {
   "cell_type": "code",
   "execution_count": 1,
   "id": "d459487d",
   "metadata": {
    "_cell_guid": "b1076dfc-b9ad-4769-8c92-a6c4dae69d19",
    "_uuid": "8f2839f25d086af736a60e9eeb907d3b93b6e0e5",
    "execution": {
     "iopub.execute_input": "2022-06-06T17:31:37.021168Z",
     "iopub.status.busy": "2022-06-06T17:31:37.016295Z",
     "iopub.status.idle": "2022-06-06T17:31:42.933230Z",
     "shell.execute_reply": "2022-06-06T17:31:42.933691Z",
     "shell.execute_reply.started": "2022-04-19T12:35:33.92457Z"
    },
    "papermill": {
     "duration": 5.940434,
     "end_time": "2022-06-06T17:31:42.933965",
     "exception": false,
     "start_time": "2022-06-06T17:31:36.993531",
     "status": "completed"
    },
    "tags": []
   },
   "outputs": [
    {
     "name": "stdout",
     "output_type": "stream",
     "text": [
      "(5, 12)\n"
     ]
    },
    {
     "data": {
      "text/html": [
       "<div>\n",
       "<style scoped>\n",
       "    .dataframe tbody tr th:only-of-type {\n",
       "        vertical-align: middle;\n",
       "    }\n",
       "\n",
       "    .dataframe tbody tr th {\n",
       "        vertical-align: top;\n",
       "    }\n",
       "\n",
       "    .dataframe thead th {\n",
       "        text-align: right;\n",
       "    }\n",
       "</style>\n",
       "<table border=\"1\" class=\"dataframe\">\n",
       "  <thead>\n",
       "    <tr style=\"text-align: right;\">\n",
       "      <th></th>\n",
       "      <th>id</th>\n",
       "      <th>name</th>\n",
       "      <th>latitude</th>\n",
       "      <th>longitude</th>\n",
       "      <th>address</th>\n",
       "      <th>city</th>\n",
       "      <th>state</th>\n",
       "      <th>zip</th>\n",
       "      <th>country</th>\n",
       "      <th>url</th>\n",
       "      <th>phone</th>\n",
       "      <th>categories</th>\n",
       "    </tr>\n",
       "  </thead>\n",
       "  <tbody>\n",
       "    <tr>\n",
       "      <th>0</th>\n",
       "      <td>E_00001118ad0191</td>\n",
       "      <td>Jamu Petani Bagan Serai</td>\n",
       "      <td>5.012169</td>\n",
       "      <td>100.535805</td>\n",
       "      <td>&lt;NA&gt;</td>\n",
       "      <td>&lt;NA&gt;</td>\n",
       "      <td>&lt;NA&gt;</td>\n",
       "      <td>&lt;NA&gt;</td>\n",
       "      <td>MY</td>\n",
       "      <td>&lt;NA&gt;</td>\n",
       "      <td>&lt;NA&gt;</td>\n",
       "      <td>Cafés</td>\n",
       "    </tr>\n",
       "    <tr>\n",
       "      <th>1</th>\n",
       "      <td>E_000020eb6fed40</td>\n",
       "      <td>Johnny's Bar</td>\n",
       "      <td>40.434209</td>\n",
       "      <td>-80.564160</td>\n",
       "      <td>497 N 12th St</td>\n",
       "      <td>Weirton</td>\n",
       "      <td>WV</td>\n",
       "      <td>26062.0</td>\n",
       "      <td>US</td>\n",
       "      <td>&lt;NA&gt;</td>\n",
       "      <td>&lt;NA&gt;</td>\n",
       "      <td>Bars</td>\n",
       "    </tr>\n",
       "    <tr>\n",
       "      <th>2</th>\n",
       "      <td>E_00002f98667edf</td>\n",
       "      <td>QIWI</td>\n",
       "      <td>47.215134</td>\n",
       "      <td>39.686088</td>\n",
       "      <td>Межевая улица, 60</td>\n",
       "      <td>Ростов-на-Дону</td>\n",
       "      <td>&lt;NA&gt;</td>\n",
       "      <td>&lt;NA&gt;</td>\n",
       "      <td>RU</td>\n",
       "      <td>https://qiwi.com</td>\n",
       "      <td>7.800301113e+10</td>\n",
       "      <td>ATMs</td>\n",
       "    </tr>\n",
       "    <tr>\n",
       "      <th>3</th>\n",
       "      <td>E_001b6bad66eb98</td>\n",
       "      <td>Gelora Sriwijaya, Jaka Baring Sport City</td>\n",
       "      <td>-3.014675</td>\n",
       "      <td>104.794374</td>\n",
       "      <td>&lt;NA&gt;</td>\n",
       "      <td>&lt;NA&gt;</td>\n",
       "      <td>&lt;NA&gt;</td>\n",
       "      <td>&lt;NA&gt;</td>\n",
       "      <td>ID</td>\n",
       "      <td>&lt;NA&gt;</td>\n",
       "      <td>&lt;NA&gt;</td>\n",
       "      <td>Stadiums</td>\n",
       "    </tr>\n",
       "    <tr>\n",
       "      <th>4</th>\n",
       "      <td>E_0283d9f61e569d</td>\n",
       "      <td>Stadion Gelora Sriwijaya</td>\n",
       "      <td>-3.021727</td>\n",
       "      <td>104.788628</td>\n",
       "      <td>Jalan Gubernur Hasan Bastari</td>\n",
       "      <td>Palembang</td>\n",
       "      <td>South Sumatra</td>\n",
       "      <td>11480.0</td>\n",
       "      <td>ID</td>\n",
       "      <td>&lt;NA&gt;</td>\n",
       "      <td>&lt;NA&gt;</td>\n",
       "      <td>Soccer Stadiums</td>\n",
       "    </tr>\n",
       "  </tbody>\n",
       "</table>\n",
       "</div>"
      ],
      "text/plain": [
       "                 id                                      name   latitude  \\\n",
       "0  E_00001118ad0191                   Jamu Petani Bagan Serai   5.012169   \n",
       "1  E_000020eb6fed40                              Johnny's Bar  40.434209   \n",
       "2  E_00002f98667edf                                      QIWI  47.215134   \n",
       "3  E_001b6bad66eb98  Gelora Sriwijaya, Jaka Baring Sport City  -3.014675   \n",
       "4  E_0283d9f61e569d                  Stadion Gelora Sriwijaya  -3.021727   \n",
       "\n",
       "    longitude                       address            city          state  \\\n",
       "0  100.535805                          <NA>            <NA>           <NA>   \n",
       "1  -80.564160                 497 N 12th St         Weirton             WV   \n",
       "2   39.686088             Межевая улица, 60  Ростов-на-Дону           <NA>   \n",
       "3  104.794374                          <NA>            <NA>           <NA>   \n",
       "4  104.788628  Jalan Gubernur Hasan Bastari       Palembang  South Sumatra   \n",
       "\n",
       "       zip country               url            phone       categories  \n",
       "0     <NA>      MY              <NA>             <NA>            Cafés  \n",
       "1  26062.0      US              <NA>             <NA>             Bars  \n",
       "2     <NA>      RU  https://qiwi.com  7.800301113e+10             ATMs  \n",
       "3     <NA>      ID              <NA>             <NA>         Stadiums  \n",
       "4  11480.0      ID              <NA>             <NA>  Soccer Stadiums  "
      ]
     },
     "execution_count": 1,
     "metadata": {},
     "output_type": "execute_result"
    }
   ],
   "source": [
    "import cudf\n",
    "\n",
    "df = cudf.read_csv(\"../input/foursquare-location-matching/test.csv\")\n",
    "print(df.shape)\n",
    "df.head()"
   ]
  },
  {
   "cell_type": "code",
   "execution_count": 2,
   "id": "d5b17a77",
   "metadata": {
    "execution": {
     "iopub.execute_input": "2022-06-06T17:31:42.968750Z",
     "iopub.status.busy": "2022-06-06T17:31:42.968158Z",
     "iopub.status.idle": "2022-06-06T17:31:42.981086Z",
     "shell.execute_reply": "2022-06-06T17:31:42.980668Z",
     "shell.execute_reply.started": "2022-04-19T12:35:34.23941Z"
    },
    "papermill": {
     "duration": 0.03334,
     "end_time": "2022-06-06T17:31:42.981197",
     "exception": false,
     "start_time": "2022-06-06T17:31:42.947857",
     "status": "completed"
    },
    "tags": []
   },
   "outputs": [
    {
     "data": {
      "text/plain": [
       "(50, 12)"
      ]
     },
     "execution_count": 2,
     "metadata": {},
     "output_type": "execute_result"
    }
   ],
   "source": [
    "# increase data size for debug mode\n",
    "if df.shape[0] == 5:\n",
    "    df = cudf.concat([df]*10).reset_index(drop=True)\n",
    "    \n",
    "df.shape"
   ]
  },
  {
   "cell_type": "code",
   "execution_count": 3,
   "id": "91067782",
   "metadata": {
    "execution": {
     "iopub.execute_input": "2022-06-06T17:31:43.006211Z",
     "iopub.status.busy": "2022-06-06T17:31:43.005602Z",
     "iopub.status.idle": "2022-06-06T17:31:48.026325Z",
     "shell.execute_reply": "2022-06-06T17:31:48.025371Z",
     "shell.execute_reply.started": "2022-04-19T12:35:34.667812Z"
    },
    "papermill": {
     "duration": 5.034801,
     "end_time": "2022-06-06T17:31:48.026473",
     "exception": false,
     "start_time": "2022-06-06T17:31:42.991672",
     "status": "completed"
    },
    "tags": []
   },
   "outputs": [],
   "source": [
    "from cuml.neighbors import NearestNeighbors\n",
    "\n",
    "coo_cols = [\"latitude\", \"longitude\"]\n",
    "\n",
    "matcher = NearestNeighbors(n_neighbors=5)\n",
    "matcher.fit(df[coo_cols])\n",
    "\n",
    "\n",
    "distances, indices = matcher.kneighbors(df[coo_cols])"
   ]
  },
  {
   "cell_type": "code",
   "execution_count": 4,
   "id": "74d76319",
   "metadata": {
    "execution": {
     "iopub.execute_input": "2022-06-06T17:31:48.053425Z",
     "iopub.status.busy": "2022-06-06T17:31:48.052731Z",
     "iopub.status.idle": "2022-06-06T17:31:54.248172Z",
     "shell.execute_reply": "2022-06-06T17:31:54.247706Z",
     "shell.execute_reply.started": "2022-04-19T12:35:35.180236Z"
    },
    "papermill": {
     "duration": 6.210901,
     "end_time": "2022-06-06T17:31:54.248312",
     "exception": false,
     "start_time": "2022-06-06T17:31:48.037411",
     "status": "completed"
    },
    "tags": []
   },
   "outputs": [
    {
     "data": {
      "text/plain": [
       "(50, 14)"
      ]
     },
     "execution_count": 4,
     "metadata": {},
     "output_type": "execute_result"
    }
   ],
   "source": [
    "from cuml.feature_extraction.text import TfidfVectorizer\n",
    "\n",
    "tfidf = TfidfVectorizer()\n",
    "V_name = tfidf.fit_transform(df[\"name\"].fillna(\"noname\"))\n",
    "V_name.shape"
   ]
  },
  {
   "cell_type": "code",
   "execution_count": 5,
   "id": "59b5c749",
   "metadata": {
    "execution": {
     "iopub.execute_input": "2022-06-06T17:31:54.274711Z",
     "iopub.status.busy": "2022-06-06T17:31:54.273905Z",
     "iopub.status.idle": "2022-06-06T17:31:54.334780Z",
     "shell.execute_reply": "2022-06-06T17:31:54.334387Z",
     "shell.execute_reply.started": "2022-04-19T12:35:35.696787Z"
    },
    "papermill": {
     "duration": 0.075662,
     "end_time": "2022-06-06T17:31:54.334886",
     "exception": false,
     "start_time": "2022-06-06T17:31:54.259224",
     "status": "completed"
    },
    "tags": []
   },
   "outputs": [
    {
     "data": {
      "text/plain": [
       "(50, 5)"
      ]
     },
     "execution_count": 5,
     "metadata": {},
     "output_type": "execute_result"
    }
   ],
   "source": [
    "tfidf = TfidfVectorizer()\n",
    "V_cat = tfidf.fit_transform(df[\"categories\"].fillna(\"nocategory\"))\n",
    "V_cat.shape"
   ]
  },
  {
   "cell_type": "code",
   "execution_count": 6,
   "id": "d475b566",
   "metadata": {
    "execution": {
     "iopub.execute_input": "2022-06-06T17:31:54.398938Z",
     "iopub.status.busy": "2022-06-06T17:31:54.398325Z",
     "iopub.status.idle": "2022-06-06T17:31:54.400347Z",
     "shell.execute_reply": "2022-06-06T17:31:54.400921Z",
     "shell.execute_reply.started": "2022-04-19T12:35:36.238088Z"
    },
    "papermill": {
     "duration": 0.055202,
     "end_time": "2022-06-06T17:31:54.401067",
     "exception": false,
     "start_time": "2022-06-06T17:31:54.345865",
     "status": "completed"
    },
    "tags": []
   },
   "outputs": [],
   "source": [
    "from cuml import ForestInference\n",
    "\n",
    "\n",
    "THRESHOLD = 0.5\n",
    "features = [\"dist\", \"name_sim\", \"cat_sim\"]\n",
    "\n",
    "\n",
    "xgb_model = ForestInference.load(f\"../input/fs-xgb-public-models/xgb_fs.json\", output_class=True, model_type=\"xgboost_json\")"
   ]
  },
  {
   "cell_type": "code",
   "execution_count": 7,
   "id": "769555be",
   "metadata": {
    "execution": {
     "iopub.execute_input": "2022-06-06T17:31:54.433788Z",
     "iopub.status.busy": "2022-06-06T17:31:54.432993Z",
     "iopub.status.idle": "2022-06-06T17:31:57.438079Z",
     "shell.execute_reply": "2022-06-06T17:31:57.437613Z",
     "shell.execute_reply.started": "2022-04-19T12:39:12.365536Z"
    },
    "papermill": {
     "duration": 3.024706,
     "end_time": "2022-06-06T17:31:57.438208",
     "exception": false,
     "start_time": "2022-06-06T17:31:54.413502",
     "status": "completed"
    },
    "tags": []
   },
   "outputs": [
    {
     "data": {
      "text/plain": [
       "(250, 6)"
      ]
     },
     "execution_count": 7,
     "metadata": {},
     "output_type": "execute_result"
    }
   ],
   "source": [
    "dfs = []\n",
    "\n",
    "\n",
    "for i in range(indices.shape[1]):\n",
    "    tmp_df = df[[\"id\"]].copy()\n",
    "    \n",
    "    tmp_df[\"dist\"] = distances.values[:, i]\n",
    "    tmp_df[\"name_sim\"] = V_name.multiply(V_name[indices.values[:, i].get()]).sum(axis=1).ravel()\n",
    "    tmp_df[\"cat_sim\"] = V_cat.multiply(V_cat[indices.values[:, i].get()]).sum(axis=1).ravel()\n",
    "    tmp_df[\"match_id\"] = df[\"id\"].to_pandas().values[indices.values[:, i].get()]\n",
    "    \n",
    "    tmp_df[\"pred\"] = xgb_model.predict_proba(tmp_df[features].to_pandas())[:, 1]\n",
    "    \n",
    "    dfs.append(tmp_df[tmp_df[\"pred\"] > THRESHOLD])\n",
    "    \n",
    "out_df = cudf.concat(dfs)\n",
    "out_df.shape"
   ]
  },
  {
   "cell_type": "code",
   "execution_count": 8,
   "id": "92b5aa2a",
   "metadata": {
    "execution": {
     "iopub.execute_input": "2022-06-06T17:31:57.467051Z",
     "iopub.status.busy": "2022-06-06T17:31:57.466241Z",
     "iopub.status.idle": "2022-06-06T17:31:57.492186Z",
     "shell.execute_reply": "2022-06-06T17:31:57.492600Z",
     "shell.execute_reply.started": "2022-04-19T12:39:41.172243Z"
    },
    "papermill": {
     "duration": 0.04298,
     "end_time": "2022-06-06T17:31:57.492722",
     "exception": false,
     "start_time": "2022-06-06T17:31:57.449742",
     "status": "completed"
    },
    "tags": []
   },
   "outputs": [
    {
     "data": {
      "text/html": [
       "<div>\n",
       "<style scoped>\n",
       "    .dataframe tbody tr th:only-of-type {\n",
       "        vertical-align: middle;\n",
       "    }\n",
       "\n",
       "    .dataframe tbody tr th {\n",
       "        vertical-align: top;\n",
       "    }\n",
       "\n",
       "    .dataframe thead th {\n",
       "        text-align: right;\n",
       "    }\n",
       "</style>\n",
       "<table border=\"1\" class=\"dataframe\">\n",
       "  <thead>\n",
       "    <tr style=\"text-align: right;\">\n",
       "      <th></th>\n",
       "      <th>id</th>\n",
       "      <th>match_id</th>\n",
       "      <th>matches</th>\n",
       "    </tr>\n",
       "  </thead>\n",
       "  <tbody>\n",
       "    <tr>\n",
       "      <th>0</th>\n",
       "      <td>E_00001118ad0191</td>\n",
       "      <td>[E_00001118ad0191, E_00001118ad0191, E_0000111...</td>\n",
       "      <td>E_00001118ad0191</td>\n",
       "    </tr>\n",
       "    <tr>\n",
       "      <th>1</th>\n",
       "      <td>E_000020eb6fed40</td>\n",
       "      <td>[E_000020eb6fed40, E_000020eb6fed40, E_000020e...</td>\n",
       "      <td>E_000020eb6fed40</td>\n",
       "    </tr>\n",
       "    <tr>\n",
       "      <th>2</th>\n",
       "      <td>E_00002f98667edf</td>\n",
       "      <td>[E_00002f98667edf, E_00002f98667edf, E_00002f9...</td>\n",
       "      <td>E_00002f98667edf</td>\n",
       "    </tr>\n",
       "    <tr>\n",
       "      <th>3</th>\n",
       "      <td>E_001b6bad66eb98</td>\n",
       "      <td>[E_001b6bad66eb98, E_001b6bad66eb98, E_001b6ba...</td>\n",
       "      <td>E_001b6bad66eb98</td>\n",
       "    </tr>\n",
       "    <tr>\n",
       "      <th>4</th>\n",
       "      <td>E_0283d9f61e569d</td>\n",
       "      <td>[E_0283d9f61e569d, E_0283d9f61e569d, E_0283d9f...</td>\n",
       "      <td>E_0283d9f61e569d</td>\n",
       "    </tr>\n",
       "  </tbody>\n",
       "</table>\n",
       "</div>"
      ],
      "text/plain": [
       "                 id                                           match_id  \\\n",
       "0  E_00001118ad0191  [E_00001118ad0191, E_00001118ad0191, E_0000111...   \n",
       "1  E_000020eb6fed40  [E_000020eb6fed40, E_000020eb6fed40, E_000020e...   \n",
       "2  E_00002f98667edf  [E_00002f98667edf, E_00002f98667edf, E_00002f9...   \n",
       "3  E_001b6bad66eb98  [E_001b6bad66eb98, E_001b6bad66eb98, E_001b6ba...   \n",
       "4  E_0283d9f61e569d  [E_0283d9f61e569d, E_0283d9f61e569d, E_0283d9f...   \n",
       "\n",
       "            matches  \n",
       "0  E_00001118ad0191  \n",
       "1  E_000020eb6fed40  \n",
       "2  E_00002f98667edf  \n",
       "3  E_001b6bad66eb98  \n",
       "4  E_0283d9f61e569d  "
      ]
     },
     "execution_count": 8,
     "metadata": {},
     "output_type": "execute_result"
    }
   ],
   "source": [
    "out_df = df[[\"id\"]].drop_duplicates().to_pandas().append(out_df.to_pandas())\n",
    "\n",
    "out_df.loc[out_df[\"match_id\"].isnull(), \"match_id\"] = out_df.loc[out_df[\"match_id\"].isnull(), \"id\"]\n",
    "\n",
    "out_df = out_df.groupby(\"id\")[\"match_id\"].apply(list).reset_index()\n",
    "out_df[\"matches\"] = out_df[\"match_id\"].apply(lambda x: \" \".join(set(x)))\n",
    "\n",
    "out_df.head()"
   ]
  },
  {
   "cell_type": "code",
   "execution_count": 9,
   "id": "9fe64742",
   "metadata": {
    "execution": {
     "iopub.execute_input": "2022-06-06T17:31:57.520244Z",
     "iopub.status.busy": "2022-06-06T17:31:57.519690Z",
     "iopub.status.idle": "2022-06-06T17:31:57.526261Z",
     "shell.execute_reply": "2022-06-06T17:31:57.525762Z",
     "shell.execute_reply.started": "2022-04-19T12:40:02.289078Z"
    },
    "papermill": {
     "duration": 0.021707,
     "end_time": "2022-06-06T17:31:57.526393",
     "exception": false,
     "start_time": "2022-06-06T17:31:57.504686",
     "status": "completed"
    },
    "tags": []
   },
   "outputs": [],
   "source": [
    "out_df.to_csv(\"submission.csv\", index=False, columns=[\"id\", \"matches\"])"
   ]
  },
  {
   "cell_type": "code",
   "execution_count": null,
   "id": "917b92f9",
   "metadata": {
    "papermill": {
     "duration": 0.011686,
     "end_time": "2022-06-06T17:31:57.549900",
     "exception": false,
     "start_time": "2022-06-06T17:31:57.538214",
     "status": "completed"
    },
    "tags": []
   },
   "outputs": [],
   "source": []
  }
 ],
 "metadata": {
  "kernelspec": {
   "display_name": "Python 3",
   "language": "python",
   "name": "python3"
  },
  "language_info": {
   "codemirror_mode": {
    "name": "ipython",
    "version": 3
   },
   "file_extension": ".py",
   "mimetype": "text/x-python",
   "name": "python",
   "nbconvert_exporter": "python",
   "pygments_lexer": "ipython3",
   "version": "3.7.12"
  },
  "papermill": {
   "default_parameters": {},
   "duration": 30.160121,
   "end_time": "2022-06-06T17:31:58.875109",
   "environment_variables": {},
   "exception": null,
   "input_path": "__notebook__.ipynb",
   "output_path": "__notebook__.ipynb",
   "parameters": {},
   "start_time": "2022-06-06T17:31:28.714988",
   "version": "2.3.3"
  }
 },
 "nbformat": 4,
 "nbformat_minor": 5
}
